{
 "cells": [
  {
   "cell_type": "markdown",
   "id": "c3e3e0c5",
   "metadata": {
    "_cell_guid": "b1076dfc-b9ad-4769-8c92-a6c4dae69d19",
    "_uuid": "8f2839f25d086af736a60e9eeb907d3b93b6e0e5",
    "papermill": {
     "duration": 0.011712,
     "end_time": "2021-10-30T06:10:04.499563",
     "exception": false,
     "start_time": "2021-10-30T06:10:04.487851",
     "status": "completed"
    },
    "tags": []
   },
   "source": [
    "# K - Nearest Neighbour Classification - Example Note book (Python)"
   ]
  },
  {
   "cell_type": "code",
   "execution_count": 1,
   "id": "a6ec1064",
   "metadata": {
    "execution": {
     "iopub.execute_input": "2021-10-30T06:10:04.529399Z",
     "iopub.status.busy": "2021-10-30T06:10:04.528838Z",
     "iopub.status.idle": "2021-10-30T06:10:05.613019Z",
     "shell.execute_reply": "2021-10-30T06:10:05.612083Z",
     "shell.execute_reply.started": "2021-10-30T06:05:11.480468Z"
    },
    "papermill": {
     "duration": 1.102835,
     "end_time": "2021-10-30T06:10:05.613275",
     "exception": false,
     "start_time": "2021-10-30T06:10:04.510440",
     "status": "completed"
    },
    "tags": []
   },
   "outputs": [
    {
     "name": "stdout",
     "output_type": "stream",
     "text": [
      "/kaggle/input/iris-dataset/Iris.csv\n"
     ]
    }
   ],
   "source": [
    "import numpy as np # linear algebra\n",
    "import pandas as pd # data processing, CSV file I/O (e.g. pd.read_csv)\n",
    "import os\n",
    "for dirname, _, filenames in os.walk('/kaggle/input'):\n",
    "    for filename in filenames:\n",
    "        print(os.path.join(dirname, filename))\n",
    "# Machine Learning Librarieis\n",
    "from sklearn.neighbors import KNeighborsClassifier\n",
    "from sklearn.preprocessing import StandardScaler\n",
    "from sklearn.pipeline import make_pipeline\n",
    "from sklearn import datasets\n",
    "from sklearn.model_selection import train_test_split\n",
    "from sklearn.metrics import accuracy_score\n",
    "from sklearn.model_selection import GridSearchCV        \n",
    "        \n"
   ]
  },
  {
   "cell_type": "code",
   "execution_count": 2,
   "id": "fa1b1701",
   "metadata": {
    "execution": {
     "iopub.execute_input": "2021-10-30T06:10:05.647292Z",
     "iopub.status.busy": "2021-10-30T06:10:05.646552Z",
     "iopub.status.idle": "2021-10-30T06:10:05.657925Z",
     "shell.execute_reply": "2021-10-30T06:10:05.657320Z",
     "shell.execute_reply.started": "2021-10-30T06:05:12.579551Z"
    },
    "papermill": {
     "duration": 0.028293,
     "end_time": "2021-10-30T06:10:05.658094",
     "exception": false,
     "start_time": "2021-10-30T06:10:05.629801",
     "status": "completed"
    },
    "tags": []
   },
   "outputs": [],
   "source": [
    "train_df = pd.read_csv(\"/kaggle/input/iris-dataset/Iris.csv\")"
   ]
  },
  {
   "cell_type": "code",
   "execution_count": 3,
   "id": "c930347b",
   "metadata": {
    "execution": {
     "iopub.execute_input": "2021-10-30T06:10:05.684769Z",
     "iopub.status.busy": "2021-10-30T06:10:05.684217Z",
     "iopub.status.idle": "2021-10-30T06:10:05.704128Z",
     "shell.execute_reply": "2021-10-30T06:10:05.704580Z",
     "shell.execute_reply.started": "2021-10-30T06:05:12.596906Z"
    },
    "papermill": {
     "duration": 0.033983,
     "end_time": "2021-10-30T06:10:05.704753",
     "exception": false,
     "start_time": "2021-10-30T06:10:05.670770",
     "status": "completed"
    },
    "tags": []
   },
   "outputs": [
    {
     "data": {
      "text/html": [
       "<div>\n",
       "<style scoped>\n",
       "    .dataframe tbody tr th:only-of-type {\n",
       "        vertical-align: middle;\n",
       "    }\n",
       "\n",
       "    .dataframe tbody tr th {\n",
       "        vertical-align: top;\n",
       "    }\n",
       "\n",
       "    .dataframe thead th {\n",
       "        text-align: right;\n",
       "    }\n",
       "</style>\n",
       "<table border=\"1\" class=\"dataframe\">\n",
       "  <thead>\n",
       "    <tr style=\"text-align: right;\">\n",
       "      <th></th>\n",
       "      <th>Id</th>\n",
       "      <th>SepalLengthCm</th>\n",
       "      <th>SepalWidthCm</th>\n",
       "      <th>PetalLengthCm</th>\n",
       "      <th>PetalWidthCm</th>\n",
       "      <th>Species</th>\n",
       "    </tr>\n",
       "  </thead>\n",
       "  <tbody>\n",
       "    <tr>\n",
       "      <th>0</th>\n",
       "      <td>1</td>\n",
       "      <td>5.1</td>\n",
       "      <td>3.5</td>\n",
       "      <td>1.4</td>\n",
       "      <td>0.2</td>\n",
       "      <td>Iris-setosa</td>\n",
       "    </tr>\n",
       "    <tr>\n",
       "      <th>1</th>\n",
       "      <td>2</td>\n",
       "      <td>4.9</td>\n",
       "      <td>3.0</td>\n",
       "      <td>1.4</td>\n",
       "      <td>0.2</td>\n",
       "      <td>Iris-setosa</td>\n",
       "    </tr>\n",
       "    <tr>\n",
       "      <th>2</th>\n",
       "      <td>3</td>\n",
       "      <td>4.7</td>\n",
       "      <td>3.2</td>\n",
       "      <td>1.3</td>\n",
       "      <td>0.2</td>\n",
       "      <td>Iris-setosa</td>\n",
       "    </tr>\n",
       "    <tr>\n",
       "      <th>3</th>\n",
       "      <td>4</td>\n",
       "      <td>4.6</td>\n",
       "      <td>3.1</td>\n",
       "      <td>1.5</td>\n",
       "      <td>0.2</td>\n",
       "      <td>Iris-setosa</td>\n",
       "    </tr>\n",
       "    <tr>\n",
       "      <th>4</th>\n",
       "      <td>5</td>\n",
       "      <td>5.0</td>\n",
       "      <td>3.6</td>\n",
       "      <td>1.4</td>\n",
       "      <td>0.2</td>\n",
       "      <td>Iris-setosa</td>\n",
       "    </tr>\n",
       "  </tbody>\n",
       "</table>\n",
       "</div>"
      ],
      "text/plain": [
       "   Id  SepalLengthCm  SepalWidthCm  PetalLengthCm  PetalWidthCm      Species\n",
       "0   1            5.1           3.5            1.4           0.2  Iris-setosa\n",
       "1   2            4.9           3.0            1.4           0.2  Iris-setosa\n",
       "2   3            4.7           3.2            1.3           0.2  Iris-setosa\n",
       "3   4            4.6           3.1            1.5           0.2  Iris-setosa\n",
       "4   5            5.0           3.6            1.4           0.2  Iris-setosa"
      ]
     },
     "execution_count": 3,
     "metadata": {},
     "output_type": "execute_result"
    }
   ],
   "source": [
    "train_df.head()"
   ]
  },
  {
   "cell_type": "markdown",
   "id": "9ae620d0",
   "metadata": {
    "papermill": {
     "duration": 0.010959,
     "end_time": "2021-10-30T06:10:05.727020",
     "exception": false,
     "start_time": "2021-10-30T06:10:05.716061",
     "status": "completed"
    },
    "tags": []
   },
   "source": [
    "### Remove Species Column , id Column "
   ]
  },
  {
   "cell_type": "code",
   "execution_count": 4,
   "id": "59c530e5",
   "metadata": {
    "execution": {
     "iopub.execute_input": "2021-10-30T06:10:05.753210Z",
     "iopub.status.busy": "2021-10-30T06:10:05.752635Z",
     "iopub.status.idle": "2021-10-30T06:10:05.773553Z",
     "shell.execute_reply": "2021-10-30T06:10:05.773102Z",
     "shell.execute_reply.started": "2021-10-30T06:05:33.859837Z"
    },
    "papermill": {
     "duration": 0.035145,
     "end_time": "2021-10-30T06:10:05.773686",
     "exception": false,
     "start_time": "2021-10-30T06:10:05.738541",
     "status": "completed"
    },
    "tags": []
   },
   "outputs": [
    {
     "data": {
      "text/html": [
       "<div>\n",
       "<style scoped>\n",
       "    .dataframe tbody tr th:only-of-type {\n",
       "        vertical-align: middle;\n",
       "    }\n",
       "\n",
       "    .dataframe tbody tr th {\n",
       "        vertical-align: top;\n",
       "    }\n",
       "\n",
       "    .dataframe thead th {\n",
       "        text-align: right;\n",
       "    }\n",
       "</style>\n",
       "<table border=\"1\" class=\"dataframe\">\n",
       "  <thead>\n",
       "    <tr style=\"text-align: right;\">\n",
       "      <th></th>\n",
       "      <th>SepalLengthCm</th>\n",
       "      <th>SepalWidthCm</th>\n",
       "      <th>PetalLengthCm</th>\n",
       "      <th>PetalWidthCm</th>\n",
       "    </tr>\n",
       "  </thead>\n",
       "  <tbody>\n",
       "    <tr>\n",
       "      <th>0</th>\n",
       "      <td>5.1</td>\n",
       "      <td>3.5</td>\n",
       "      <td>1.4</td>\n",
       "      <td>0.2</td>\n",
       "    </tr>\n",
       "    <tr>\n",
       "      <th>1</th>\n",
       "      <td>4.9</td>\n",
       "      <td>3.0</td>\n",
       "      <td>1.4</td>\n",
       "      <td>0.2</td>\n",
       "    </tr>\n",
       "    <tr>\n",
       "      <th>2</th>\n",
       "      <td>4.7</td>\n",
       "      <td>3.2</td>\n",
       "      <td>1.3</td>\n",
       "      <td>0.2</td>\n",
       "    </tr>\n",
       "    <tr>\n",
       "      <th>3</th>\n",
       "      <td>4.6</td>\n",
       "      <td>3.1</td>\n",
       "      <td>1.5</td>\n",
       "      <td>0.2</td>\n",
       "    </tr>\n",
       "    <tr>\n",
       "      <th>4</th>\n",
       "      <td>5.0</td>\n",
       "      <td>3.6</td>\n",
       "      <td>1.4</td>\n",
       "      <td>0.2</td>\n",
       "    </tr>\n",
       "    <tr>\n",
       "      <th>...</th>\n",
       "      <td>...</td>\n",
       "      <td>...</td>\n",
       "      <td>...</td>\n",
       "      <td>...</td>\n",
       "    </tr>\n",
       "    <tr>\n",
       "      <th>145</th>\n",
       "      <td>6.7</td>\n",
       "      <td>3.0</td>\n",
       "      <td>5.2</td>\n",
       "      <td>2.3</td>\n",
       "    </tr>\n",
       "    <tr>\n",
       "      <th>146</th>\n",
       "      <td>6.3</td>\n",
       "      <td>2.5</td>\n",
       "      <td>5.0</td>\n",
       "      <td>1.9</td>\n",
       "    </tr>\n",
       "    <tr>\n",
       "      <th>147</th>\n",
       "      <td>6.5</td>\n",
       "      <td>3.0</td>\n",
       "      <td>5.2</td>\n",
       "      <td>2.0</td>\n",
       "    </tr>\n",
       "    <tr>\n",
       "      <th>148</th>\n",
       "      <td>6.2</td>\n",
       "      <td>3.4</td>\n",
       "      <td>5.4</td>\n",
       "      <td>2.3</td>\n",
       "    </tr>\n",
       "    <tr>\n",
       "      <th>149</th>\n",
       "      <td>5.9</td>\n",
       "      <td>3.0</td>\n",
       "      <td>5.1</td>\n",
       "      <td>1.8</td>\n",
       "    </tr>\n",
       "  </tbody>\n",
       "</table>\n",
       "<p>150 rows × 4 columns</p>\n",
       "</div>"
      ],
      "text/plain": [
       "     SepalLengthCm  SepalWidthCm  PetalLengthCm  PetalWidthCm\n",
       "0              5.1           3.5            1.4           0.2\n",
       "1              4.9           3.0            1.4           0.2\n",
       "2              4.7           3.2            1.3           0.2\n",
       "3              4.6           3.1            1.5           0.2\n",
       "4              5.0           3.6            1.4           0.2\n",
       "..             ...           ...            ...           ...\n",
       "145            6.7           3.0            5.2           2.3\n",
       "146            6.3           2.5            5.0           1.9\n",
       "147            6.5           3.0            5.2           2.0\n",
       "148            6.2           3.4            5.4           2.3\n",
       "149            5.9           3.0            5.1           1.8\n",
       "\n",
       "[150 rows x 4 columns]"
      ]
     },
     "execution_count": 4,
     "metadata": {},
     "output_type": "execute_result"
    }
   ],
   "source": [
    "X = train_df.drop(['Species','Id'], axis = 1)\n",
    "y  = train_df['Species']\n",
    "X  "
   ]
  },
  {
   "cell_type": "markdown",
   "id": "918e9d1f",
   "metadata": {
    "papermill": {
     "duration": 0.011358,
     "end_time": "2021-10-30T06:10:05.796714",
     "exception": false,
     "start_time": "2021-10-30T06:10:05.785356",
     "status": "completed"
    },
    "tags": []
   },
   "source": [
    "### convert X to array values"
   ]
  },
  {
   "cell_type": "code",
   "execution_count": 5,
   "id": "9bfff169",
   "metadata": {
    "execution": {
     "iopub.execute_input": "2021-10-30T06:10:05.825737Z",
     "iopub.status.busy": "2021-10-30T06:10:05.825023Z",
     "iopub.status.idle": "2021-10-30T06:10:05.827658Z",
     "shell.execute_reply": "2021-10-30T06:10:05.827218Z",
     "shell.execute_reply.started": "2021-10-30T06:05:39.443544Z"
    },
    "papermill": {
     "duration": 0.019176,
     "end_time": "2021-10-30T06:10:05.827796",
     "exception": false,
     "start_time": "2021-10-30T06:10:05.808620",
     "status": "completed"
    },
    "tags": []
   },
   "outputs": [],
   "source": [
    "X = X.values"
   ]
  },
  {
   "cell_type": "code",
   "execution_count": 6,
   "id": "effcebec",
   "metadata": {
    "execution": {
     "iopub.execute_input": "2021-10-30T06:10:05.853763Z",
     "iopub.status.busy": "2021-10-30T06:10:05.853192Z",
     "iopub.status.idle": "2021-10-30T06:10:05.858379Z",
     "shell.execute_reply": "2021-10-30T06:10:05.857856Z",
     "shell.execute_reply.started": "2021-10-30T06:05:48.251515Z"
    },
    "papermill": {
     "duration": 0.018994,
     "end_time": "2021-10-30T06:10:05.858518",
     "exception": false,
     "start_time": "2021-10-30T06:10:05.839524",
     "status": "completed"
    },
    "tags": []
   },
   "outputs": [],
   "source": [
    "# Feature Scaling using StandardScaler\n",
    "sc = StandardScaler()\n",
    "sc.fit(X)\n",
    "X = sc.transform(X)\n"
   ]
  },
  {
   "cell_type": "markdown",
   "id": "f9e14cca",
   "metadata": {
    "papermill": {
     "duration": 0.012481,
     "end_time": "2021-10-30T06:10:05.882585",
     "exception": false,
     "start_time": "2021-10-30T06:10:05.870104",
     "status": "completed"
    },
    "tags": []
   },
   "source": [
    "### Train Test Splitting of the data"
   ]
  },
  {
   "cell_type": "code",
   "execution_count": 7,
   "id": "2065f87c",
   "metadata": {
    "execution": {
     "iopub.execute_input": "2021-10-30T06:10:05.911481Z",
     "iopub.status.busy": "2021-10-30T06:10:05.910574Z",
     "iopub.status.idle": "2021-10-30T06:10:05.916559Z",
     "shell.execute_reply": "2021-10-30T06:10:05.916081Z",
     "shell.execute_reply.started": "2021-10-30T06:06:13.115280Z"
    },
    "papermill": {
     "duration": 0.022493,
     "end_time": "2021-10-30T06:10:05.916695",
     "exception": false,
     "start_time": "2021-10-30T06:10:05.894202",
     "status": "completed"
    },
    "tags": []
   },
   "outputs": [],
   "source": [
    "X_train, X_test, y_train, y_test = train_test_split(X, y, test_size=0.3, random_state=42, stratify=y)"
   ]
  },
  {
   "cell_type": "markdown",
   "id": "6f169567",
   "metadata": {
    "papermill": {
     "duration": 0.011147,
     "end_time": "2021-10-30T06:10:05.939389",
     "exception": false,
     "start_time": "2021-10-30T06:10:05.928242",
     "status": "completed"
    },
    "tags": []
   },
   "source": [
    "### Knn Model Fitting"
   ]
  },
  {
   "cell_type": "code",
   "execution_count": 8,
   "id": "3db36203",
   "metadata": {
    "execution": {
     "iopub.execute_input": "2021-10-30T06:10:05.969408Z",
     "iopub.status.busy": "2021-10-30T06:10:05.966671Z",
     "iopub.status.idle": "2021-10-30T06:10:05.974222Z",
     "shell.execute_reply": "2021-10-30T06:10:05.974648Z",
     "shell.execute_reply.started": "2021-10-30T06:06:36.825119Z"
    },
    "papermill": {
     "duration": 0.023979,
     "end_time": "2021-10-30T06:10:05.974812",
     "exception": false,
     "start_time": "2021-10-30T06:10:05.950833",
     "status": "completed"
    },
    "tags": []
   },
   "outputs": [
    {
     "data": {
      "text/plain": [
       "KNeighborsClassifier(p=3)"
      ]
     },
     "execution_count": 8,
     "metadata": {},
     "output_type": "execute_result"
    }
   ],
   "source": [
    "knn = KNeighborsClassifier(n_neighbors=5, p= 3, weights='uniform', algorithm='auto')\n",
    "knn.fit(X_train, y_train)\n"
   ]
  },
  {
   "cell_type": "code",
   "execution_count": 9,
   "id": "1e1e142d",
   "metadata": {
    "execution": {
     "iopub.execute_input": "2021-10-30T06:10:06.004912Z",
     "iopub.status.busy": "2021-10-30T06:10:06.004082Z",
     "iopub.status.idle": "2021-10-30T06:10:06.009364Z",
     "shell.execute_reply": "2021-10-30T06:10:06.009863Z",
     "shell.execute_reply.started": "2021-10-30T06:06:38.601821Z"
    },
    "papermill": {
     "duration": 0.02343,
     "end_time": "2021-10-30T06:10:06.010026",
     "exception": false,
     "start_time": "2021-10-30T06:10:05.986596",
     "status": "completed"
    },
    "tags": []
   },
   "outputs": [],
   "source": [
    "prediction = knn.predict(X_test) # By supplying the test data now predicting the  Y (Species values)"
   ]
  },
  {
   "cell_type": "code",
   "execution_count": 10,
   "id": "3743c9c9",
   "metadata": {
    "execution": {
     "iopub.execute_input": "2021-10-30T06:10:06.037315Z",
     "iopub.status.busy": "2021-10-30T06:10:06.036409Z",
     "iopub.status.idle": "2021-10-30T06:10:06.041525Z",
     "shell.execute_reply": "2021-10-30T06:10:06.042063Z",
     "shell.execute_reply.started": "2021-10-30T06:06:41.574949Z"
    },
    "papermill": {
     "duration": 0.020289,
     "end_time": "2021-10-30T06:10:06.042224",
     "exception": false,
     "start_time": "2021-10-30T06:10:06.021935",
     "status": "completed"
    },
    "tags": []
   },
   "outputs": [
    {
     "data": {
      "text/plain": [
       "array(['Iris-virginica', 'Iris-versicolor', 'Iris-versicolor',\n",
       "       'Iris-versicolor', 'Iris-virginica', 'Iris-virginica',\n",
       "       'Iris-versicolor', 'Iris-versicolor', 'Iris-setosa',\n",
       "       'Iris-virginica', 'Iris-setosa', 'Iris-setosa', 'Iris-virginica',\n",
       "       'Iris-virginica', 'Iris-setosa', 'Iris-virginica',\n",
       "       'Iris-versicolor', 'Iris-setosa', 'Iris-setosa', 'Iris-setosa',\n",
       "       'Iris-versicolor', 'Iris-setosa', 'Iris-versicolor',\n",
       "       'Iris-virginica', 'Iris-versicolor', 'Iris-versicolor',\n",
       "       'Iris-versicolor', 'Iris-versicolor', 'Iris-versicolor',\n",
       "       'Iris-setosa', 'Iris-versicolor', 'Iris-virginica',\n",
       "       'Iris-versicolor', 'Iris-setosa', 'Iris-virginica', 'Iris-setosa',\n",
       "       'Iris-setosa', 'Iris-setosa', 'Iris-setosa', 'Iris-versicolor',\n",
       "       'Iris-versicolor', 'Iris-setosa', 'Iris-versicolor',\n",
       "       'Iris-virginica', 'Iris-versicolor'], dtype=object)"
      ]
     },
     "execution_count": 10,
     "metadata": {},
     "output_type": "execute_result"
    }
   ],
   "source": [
    "prediction"
   ]
  },
  {
   "cell_type": "code",
   "execution_count": 11,
   "id": "a4086d71",
   "metadata": {
    "execution": {
     "iopub.execute_input": "2021-10-30T06:10:06.071741Z",
     "iopub.status.busy": "2021-10-30T06:10:06.070803Z",
     "iopub.status.idle": "2021-10-30T06:10:06.075186Z",
     "shell.execute_reply": "2021-10-30T06:10:06.075957Z",
     "shell.execute_reply.started": "2021-10-30T06:06:46.795659Z"
    },
    "papermill": {
     "duration": 0.021822,
     "end_time": "2021-10-30T06:10:06.076194",
     "exception": false,
     "start_time": "2021-10-30T06:10:06.054372",
     "status": "completed"
    },
    "tags": []
   },
   "outputs": [
    {
     "name": "stdout",
     "output_type": "stream",
     "text": [
      " Model Accuracy of prediction : 91.11111111111111\n"
     ]
    }
   ],
   "source": [
    "Accuracy = accuracy_score(y_test, prediction,normalize=True, sample_weight=None) *100\n",
    "print(\" Model Accuracy of prediction :\", Accuracy)"
   ]
  },
  {
   "cell_type": "code",
   "execution_count": null,
   "id": "e7c75a42",
   "metadata": {
    "papermill": {
     "duration": 0.011874,
     "end_time": "2021-10-30T06:10:06.101052",
     "exception": false,
     "start_time": "2021-10-30T06:10:06.089178",
     "status": "completed"
    },
    "tags": []
   },
   "outputs": [],
   "source": []
  },
  {
   "cell_type": "code",
   "execution_count": null,
   "id": "6d08bb1b",
   "metadata": {
    "papermill": {
     "duration": 0.01204,
     "end_time": "2021-10-30T06:10:06.125325",
     "exception": false,
     "start_time": "2021-10-30T06:10:06.113285",
     "status": "completed"
    },
    "tags": []
   },
   "outputs": [],
   "source": []
  },
  {
   "cell_type": "code",
   "execution_count": null,
   "id": "0ddb0670",
   "metadata": {
    "papermill": {
     "duration": 0.012102,
     "end_time": "2021-10-30T06:10:06.150265",
     "exception": false,
     "start_time": "2021-10-30T06:10:06.138163",
     "status": "completed"
    },
    "tags": []
   },
   "outputs": [],
   "source": []
  }
 ],
 "metadata": {
  "kernelspec": {
   "display_name": "Python 3",
   "language": "python",
   "name": "python3"
  },
  "language_info": {
   "codemirror_mode": {
    "name": "ipython",
    "version": 3
   },
   "file_extension": ".py",
   "mimetype": "text/x-python",
   "name": "python",
   "nbconvert_exporter": "python",
   "pygments_lexer": "ipython3",
   "version": "3.7.10"
  },
  "papermill": {
   "default_parameters": {},
   "duration": 9.181772,
   "end_time": "2021-10-30T06:10:06.771149",
   "environment_variables": {},
   "exception": null,
   "input_path": "__notebook__.ipynb",
   "output_path": "__notebook__.ipynb",
   "parameters": {},
   "start_time": "2021-10-30T06:09:57.589377",
   "version": "2.3.3"
  }
 },
 "nbformat": 4,
 "nbformat_minor": 5
}
